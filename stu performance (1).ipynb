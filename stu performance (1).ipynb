{
 "cells": [
  {
   "cell_type": "code",
   "execution_count": 1,
   "id": "291f8c78-95a4-46c0-9f60-c93aad90259c",
   "metadata": {},
   "outputs": [
    {
     "name": "stdout",
     "output_type": "stream",
     "text": [
      "📊 First 5 records:\n",
      "   StudentID    Name  Maths  Science  English  History  Art  Average\n",
      "0      S100   Arjun     34       81       86       59   48     61.6\n",
      "1      S101   Divya     71       74       46       44   97     66.4\n",
      "2      S102   Rahul     33       74       38       44   95     56.8\n",
      "3      S103   Sneha    100       49       37       83   59     65.6\n",
      "4      S104  Vikram     69       51       79       46   49     58.8\n",
      "\n",
      "📚 Subject-wise Average Marks:\n",
      " Maths      65.366667\n",
      "Science    68.933333\n",
      "English    56.066667\n",
      "History    68.133333\n",
      "Art        61.300000\n",
      "dtype: float64\n",
      "\n",
      "🏆 Top 5 Students by Average Score:\n",
      "    StudentID     Name  Average\n",
      "6       S106  Karthik     78.8\n",
      "15      S115    Meena     74.0\n",
      "20      S120    Gokul     73.8\n",
      "24      S124   Balaji     73.8\n",
      "10      S110     Ravi     73.0\n",
      "\n",
      "⚠️ Students with below 40 marks in any subject (21 students):\n",
      "    StudentID       Name\n",
      "0       S100      Arjun\n",
      "2       S102      Rahul\n",
      "3       S103      Sneha\n",
      "6       S106    Karthik\n",
      "7       S107  Aishwarya\n",
      "8       S108      Manoj\n",
      "9       S109      Anita\n",
      "11      S111    Lakshmi\n",
      "12      S112     Suresh\n",
      "13      S113      Deepa\n",
      "14      S114     Naveen\n",
      "15      S115      Meena\n",
      "16      S116      Vijay\n",
      "17      S117      Pooja\n",
      "20      S120      Gokul\n",
      "22      S122       Ajay\n",
      "25      S125    Sandhya\n",
      "26      S126     Ramesh\n",
      "27      S127     Anjali\n",
      "28      S128      Surya\n",
      "29      S129    Lavanya\n"
     ]
    }
   ],
   "source": [
    "import pandas as pd\n",
    "\n",
    "# Load data\n",
    "df = pd.read_csv(\"student_scores.csv\")\n",
    "\n",
    "# Calculate average score\n",
    "df['Average'] = df[['Maths', 'Science', 'English', 'History', 'Art']].mean(axis=1)\n",
    "\n",
    "# Top performers\n",
    "top_students = df.sort_values(by=\"Average\", ascending=False).head(5)\n",
    "\n",
    "print(\"📊 First 5 records:\\n\", df.head())\n",
    "\n",
    "# Overall subject-wise average\n",
    "subject_averages = df[['Maths', 'Science', 'English', 'History', 'Art']].mean()\n",
    "print(\"\\n📚 Subject-wise Average Marks:\\n\", subject_averages)\n",
    "\n",
    "# Top 5 students by average\n",
    "print(\"\\n🏆 Top 5 Students by Average Score:\\n\", top_students[['StudentID', 'Name', 'Average']])\n",
    "\n",
    "# Students scoring below 40 in any subject\n",
    "low_scores = df[(df[['Maths', 'Science', 'English', 'History', 'Art']] < 40).any(axis=1)]\n",
    "print(f\"\\n⚠️ Students with below 40 marks in any subject ({len(low_scores)} students):\\n\", low_scores[['StudentID', 'Name']])\n"
   ]
  },
  {
   "cell_type": "code",
   "execution_count": null,
   "id": "e69d73d5-39cc-44b2-a536-bfd05f9018bb",
   "metadata": {},
   "outputs": [],
   "source": []
  }
 ],
 "metadata": {
  "kernelspec": {
   "display_name": "Python 3 (ipykernel)",
   "language": "python",
   "name": "python3"
  },
  "language_info": {
   "codemirror_mode": {
    "name": "ipython",
    "version": 3
   },
   "file_extension": ".py",
   "mimetype": "text/x-python",
   "name": "python",
   "nbconvert_exporter": "python",
   "pygments_lexer": "ipython3",
   "version": "3.11.7"
  }
 },
 "nbformat": 4,
 "nbformat_minor": 5
}
