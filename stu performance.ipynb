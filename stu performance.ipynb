import pandas as pd

# Load data
df = pd.read_csv("student_scores.csv")

# Calculate average score
df['Average'] = df[['Maths', 'Science', 'English', 'History', 'Art']].mean(axis=1)

# Top performers
top_students = df.sort_values(by="Average", ascending=False).head(5)

print("📊 First 5 records:\n", df.head())

# Overall subject-wise average
subject_averages = df[['Maths', 'Science', 'English', 'History', 'Art']].mean()
print("\n📚 Subject-wise Average Marks:\n", subject_averages)

# Top 5 students by average
print("\n🏆 Top 5 Students by Average Score:\n", top_students[['StudentID', 'Name', 'Average']])

# Students scoring below 40 in any subject
low_scores = df[(df[['Maths', 'Science', 'English', 'History', 'Art']] < 40).any(axis=1)]
print(f"\n⚠️ Students with below 40 marks in any subject ({len(low_scores)} students):\n", low_scores[['StudentID', 'Name']])
